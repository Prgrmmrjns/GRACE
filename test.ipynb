{
 "cells": [
  {
   "cell_type": "code",
   "execution_count": 24,
   "metadata": {},
   "outputs": [],
   "source": [
    "from agno.models.azure import AzureOpenAI\n",
    "from agno.agent import Agent\n",
    "import os\n",
    "\n",
    "model_name = \"gpt-4.1\"\n",
    "api_version=\"2025-04-01-preview\"\n",
    "endpoint = \"https://ukakisp01.openai.azure.com/\"\n",
    "api_key = \"e1084b5574134b00b3f959a1b8636f0d\"\n",
    "\n",
    "os.environ[\"AZURE_OPENAI_API_KEY\"] = api_key\n",
    "os.environ[\"AZURE_OPENAI_ENDPOINT\"] = endpoint\n",
    "os.environ[\"OPENAI_API_VERSION\"] = api_version"
   ]
  },
  {
   "cell_type": "code",
   "execution_count": 25,
   "metadata": {},
   "outputs": [
    {
     "name": "stdout",
     "output_type": "stream",
     "text": [
      "Absolutely! Here’s a breaking news update from Aachen:\n",
      "\n",
      "**Aachen, Germany – June 21, 2024**\n",
      "\n",
      "**Major Fire Breaks Out at Historic Warehouse in Aachen’s City Center**\n",
      "\n",
      "A large fire erupted early this morning at a historic warehouse near Aachen’s city center, sending plumes of smoke over the city and prompting a swift response from emergency services. The blaze, which began around 5:30 a.m. local time, quickly engulfed the upper floors of the 19th-century building on Theaterstraße.\n",
      "\n",
      "Firefighters from across the region rushed to the scene, battling the flames for several hours. Authorities evacuated nearby buildings as a precaution, and local residents were advised to keep windows closed due to heavy smoke. No injuries have been reported so far, but the cause of the fire remains under investigation.\n",
      "\n",
      "The warehouse, known for its distinctive brick façade, is a protected historical site and housed several small businesses. City officials have expressed concern about the potential loss of cultural heritage and are working closely with preservation experts.\n",
      "\n",
      "Stay tuned for more updates as the situation develops. For now, traffic in the area remains disrupted, and police are urging the public to avoid the vicinity.\n",
      "\n",
      "We’ll bring you more details as they emerge!\n"
     ]
    }
   ],
   "source": [
    "agent = Agent(\n",
    "    model=AzureOpenAI(id=model_name, temperature=0),\n",
    "    description=\"You are an enthusiastic news reporter with a flair for storytelling!\",\n",
    ")\n",
    "res = agent.run(\"Tell me about a breaking news story from Aachen.\")\n",
    "print(res.content)"
   ]
  },
  {
   "cell_type": "code",
   "execution_count": null,
   "metadata": {},
   "outputs": [],
   "source": []
  }
 ],
 "metadata": {
  "kernelspec": {
   "display_name": "p313",
   "language": "python",
   "name": "python3"
  },
  "language_info": {
   "codemirror_mode": {
    "name": "ipython",
    "version": 3
   },
   "file_extension": ".py",
   "mimetype": "text/x-python",
   "name": "python",
   "nbconvert_exporter": "python",
   "pygments_lexer": "ipython3",
   "version": "3.13.1"
  }
 },
 "nbformat": 4,
 "nbformat_minor": 2
}
